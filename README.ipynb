{
 "cells": [
  {
   "cell_type": "markdown",
   "metadata": {},
   "source": [
    "# Mod_2_Project\n",
    "\n",
    "### Predicting the accuracy of listed home sales prices\n",
    "\n",
    "**Creating a tool that can be used by prospective home buyers for estimating how over or underpriced a listing may be** \n",
    "\n",
    "### Overview\n",
    "\n",
    "During this project, we sought to determine the variables of greatest impact: which variables were most effective at predicting house prices. After that, our team followed up with focusing on these key questions:\n",
    "\n",
    "   - **Impact of geographical features:** How do geographical features, such as proximity to water, affect the sales price of a house? \n",
    "   - **Impact of zip code:** How much does zip code affect the sales price of the homes within it?\n",
    "   - **Quantifying Relative Location:** How can the distance from K-Means clusters be used to predict sales price?\n",
    "   \n",
    "## ReadME Navigation\n",
    "\n",
    "[Data](#Data) - [Results](#Results) - [Reccomendations](#Reccomendations) - [Limitatations & Next Steps](#Limitations-&-Next-Steps) - [Reproduction Instructions](#Reproduction-Instructions) - [Project Information](#Project-Information) - [Other Sources](#Other-Sources)"
   ]
  },
  {
   "cell_type": "markdown",
   "metadata": {},
   "source": [
    "## Data \n",
    "\n",
    "**Sources**\n",
    "\n",
    "We used the King County dataset from [Location Name]() gathered by a third party\n",
    "\n",
    "**The Dataset** \n",
    "\n",
    "Our dataset contained 21,597 rows of a years worth of home sales data from 05/02/2014 - 50/27/2015. The sale price, age, coordinates, square footage, floors, and number of rooms were contained within this dataset. The data we mainly utilized was how much the homes sold for, the coordinates of each home, and the square footage of the livingspace."
   ]
  },
  {
   "cell_type": "markdown",
   "metadata": {},
   "source": [
    "## Results"
   ]
  },
  {
   "cell_type": "markdown",
   "metadata": {},
   "source": [
    "## Reccomendations"
   ]
  },
  {
   "cell_type": "markdown",
   "metadata": {},
   "source": [
    "## Limitations & Next Steps"
   ]
  },
  {
   "cell_type": "markdown",
   "metadata": {},
   "source": [
    "## Reproduction Instructions"
   ]
  },
  {
   "cell_type": "markdown",
   "metadata": {},
   "source": [
    "## Project Information "
   ]
  },
  {
   "cell_type": "markdown",
   "metadata": {},
   "source": [
    "## Other Sources"
   ]
  },
  {
   "cell_type": "markdown",
   "metadata": {},
   "source": [
    "## Repository Navigation"
   ]
  }
 ],
 "metadata": {
  "kernelspec": {
   "display_name": "Python [conda env:.conda-learn-env] *",
   "language": "python",
   "name": "conda-env-.conda-learn-env-py"
  },
  "language_info": {
   "codemirror_mode": {
    "name": "ipython",
    "version": 3
   },
   "file_extension": ".py",
   "mimetype": "text/x-python",
   "name": "python",
   "nbconvert_exporter": "python",
   "pygments_lexer": "ipython3",
   "version": "3.6.9"
  }
 },
 "nbformat": 4,
 "nbformat_minor": 4
}
